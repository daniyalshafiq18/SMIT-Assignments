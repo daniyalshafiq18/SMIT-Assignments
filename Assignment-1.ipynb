{
 "cells": [
  {
   "cell_type": "markdown",
   "id": "98494521-d103-42d4-89af-bd888772e52c",
   "metadata": {},
   "source": [
    "1) A company decided to give bonus of 5% to employee if his/her year of service is more than 5 years. Ask user for their salary and year of\r\n",
    "service and print the net bonus amount."
   ]
  },
  {
   "cell_type": "code",
   "execution_count": 1,
   "id": "cc001874-81a5-47a0-99de-2e9671ac82fa",
   "metadata": {},
   "outputs": [
    {
     "name": "stdin",
     "output_type": "stream",
     "text": [
      "Employee Name:  Muhammad Daniyal\n",
      "Current Salary: Rs  25000\n",
      "How many years have you been working in this company?  7\n"
     ]
    },
    {
     "name": "stdout",
     "output_type": "stream",
     "text": [
      "\n",
      "Congratulations! You have received a bonus of Rs 1250.0\n",
      "New Salary: 26250.0\n"
     ]
    }
   ],
   "source": [
    "name = input(\"Employee Name: \")\n",
    "salary = float(input(\"Current Salary: Rs \"))\n",
    "years_of_service = int(input(\"How many years have you been working in this company? \"))\n",
    "\n",
    "if years_of_service > 5:\n",
    "    bonus = 0.05 * salary\n",
    "    new_salary = salary + bonus\n",
    "    print(\"\\nCongratulations! You have received a bonus of Rs\", bonus)\n",
    "    print(\"New Salary:\", new_salary)\n",
    "else:\n",
    "    print(\"\\nYour Salary is up-to-date.\")"
   ]
  },
  {
   "cell_type": "markdown",
   "id": "8d37f834-e2b9-4ac8-83f7-c6f929a0b23b",
   "metadata": {},
   "source": [
    "2) Write a program to check whether a person is eligible for voting or not. (accept age from user) if age is greater than 17 eligible otherwise not\r\n",
    "eligible"
   ]
  },
  {
   "cell_type": "code",
   "execution_count": 2,
   "id": "89fe2c23-98fc-4b74-ab25-4409bedf8353",
   "metadata": {},
   "outputs": [
    {
     "name": "stdin",
     "output_type": "stream",
     "text": [
      "Enter your age:  18\n"
     ]
    },
    {
     "name": "stdout",
     "output_type": "stream",
     "text": [
      "\n",
      "You are eligible to cast vote!\n"
     ]
    }
   ],
   "source": [
    "age = int(input(\"Enter your age: \"))\n",
    "\n",
    "if age > 17:\n",
    "    print(\"\\nYou are eligible to cast vote!\")\n",
    "else:\n",
    "    print(\"\\nSorry! You are under age.\")"
   ]
  },
  {
   "cell_type": "markdown",
   "id": "97679b51-f6e2-451c-b32f-f165d2bea89a",
   "metadata": {},
   "source": [
    "3) Write a program to check whether a number entered by user is even or odd."
   ]
  },
  {
   "cell_type": "code",
   "execution_count": 3,
   "id": "e621ed02-9a88-496a-af8a-2946cf27a716",
   "metadata": {},
   "outputs": [
    {
     "name": "stdin",
     "output_type": "stream",
     "text": [
      "Enter a number/integer:  200\n"
     ]
    },
    {
     "name": "stdout",
     "output_type": "stream",
     "text": [
      "The number you have entered is even.\n"
     ]
    }
   ],
   "source": [
    "num = int(input(\"Enter a number/integer: \"))\n",
    "\n",
    "if num % 2 == 0:\n",
    "    print(\"The number you have entered is even.\")\n",
    "else:\n",
    "    print(\"The number you have entered is odd.\")"
   ]
  },
  {
   "cell_type": "markdown",
   "id": "08255a95-4a67-4bed-bfab-e4c10d4a0cdc",
   "metadata": {},
   "source": [
    "4) Write a program to check whether a number is divisible by 7 or not."
   ]
  },
  {
   "cell_type": "code",
   "execution_count": 4,
   "id": "538cb5fa-ed4a-4582-a85d-7a6fe0c8d173",
   "metadata": {},
   "outputs": [
    {
     "name": "stdin",
     "output_type": "stream",
     "text": [
      "Enter a number/integer:  49\n"
     ]
    },
    {
     "name": "stdout",
     "output_type": "stream",
     "text": [
      "The number you have entered is divisible by 7.\n"
     ]
    }
   ],
   "source": [
    "num = int(input(\"Enter a number/integer: \"))\n",
    "\n",
    "if num % 7 == 0:\n",
    "    print(\"The number you have entered is divisible by 7.\")\n",
    "else:\n",
    "    print(\"The number you have entered is not divisible by 7.\")"
   ]
  },
  {
   "cell_type": "markdown",
   "id": "a4658685-8f4d-44ba-987f-d75b96d2ddef",
   "metadata": {},
   "source": [
    "5) Write a program to display \"Hello\" if a number entered by user is a multiple of five , otherwise print \"Bye\"."
   ]
  },
  {
   "cell_type": "code",
   "execution_count": 6,
   "id": "bf576a91-8b73-4d45-bb33-4e7a18b14c92",
   "metadata": {},
   "outputs": [
    {
     "name": "stdin",
     "output_type": "stream",
     "text": [
      "Enter a number/integer:  15\n"
     ]
    },
    {
     "name": "stdout",
     "output_type": "stream",
     "text": [
      "Hello\n"
     ]
    }
   ],
   "source": [
    "num = int(input(\"Enter a number/integer: \"))\n",
    "\n",
    "if num % 5 == 0:\n",
    "    print(\"Hello\")\n",
    "else:\n",
    "    print(\"Bye\")"
   ]
  },
  {
   "cell_type": "markdown",
   "id": "2d37e1b8-cb56-49f7-a489-41a975e47ef1",
   "metadata": {},
   "source": [
    "7) Write a program to display the last digit of a number."
   ]
  },
  {
   "cell_type": "code",
   "execution_count": 7,
   "id": "ff6c19d8-a11b-476f-be6e-2c353aab0b74",
   "metadata": {},
   "outputs": [
    {
     "name": "stdin",
     "output_type": "stream",
     "text": [
      "Enter a number:  8937\n"
     ]
    },
    {
     "name": "stdout",
     "output_type": "stream",
     "text": [
      "The last digit of your number is 7\n"
     ]
    }
   ],
   "source": [
    "num = int(input(\"Enter a number: \"))\n",
    "last_digit = num % 10\n",
    "\n",
    "print(\"The last digit of your number is\", last_digit)"
   ]
  },
  {
   "cell_type": "markdown",
   "id": "ecb20cab-26d7-4247-90e0-ae32ad039108",
   "metadata": {},
   "source": [
    "8) Write a program to check whether the last digit of a number( entered by user ) is divisible by 3 or not."
   ]
  },
  {
   "cell_type": "code",
   "execution_count": 8,
   "id": "0aea9fd6-3d3e-46c7-b680-e0c8a3cf6bb7",
   "metadata": {},
   "outputs": [
    {
     "name": "stdin",
     "output_type": "stream",
     "text": [
      "Enter a number:  369\n"
     ]
    },
    {
     "name": "stdout",
     "output_type": "stream",
     "text": [
      "The last digit of your number is 9\n",
      "9 is divisible by 3.\n"
     ]
    }
   ],
   "source": [
    "num = int(input(\"Enter a number: \"))\n",
    "last_digit = num % 10\n",
    "\n",
    "print(\"The last digit of your number is\", last_digit)\n",
    "\n",
    "if last_digit % 3 == 0:\n",
    "    print(str(last_digit),\"is divisible by 3.\")\n",
    "else:\n",
    "    print(str(last_digit),\"is not divisible by 3.\")"
   ]
  },
  {
   "cell_type": "markdown",
   "id": "be1bb9a4-7f1a-4172-93e3-b0e6c7ba329d",
   "metadata": {},
   "source": [
    "9) Take values of length and breadth of a rectangle from user and print if it is square or rectangle."
   ]
  },
  {
   "cell_type": "code",
   "execution_count": 9,
   "id": "f17428a7-79f9-4740-9bff-3d96ec269bcc",
   "metadata": {},
   "outputs": [
    {
     "name": "stdin",
     "output_type": "stream",
     "text": [
      "Enter breadth:  2.3\n",
      "Enter length:  3.5\n"
     ]
    },
    {
     "name": "stdout",
     "output_type": "stream",
     "text": [
      "\n",
      "It's a rectangle.\n"
     ]
    }
   ],
   "source": [
    "breadth = float(input(\"Enter breadth: \"))\n",
    "length = float(input(\"Enter length: \"))\n",
    "\n",
    "if breadth == length:\n",
    "    print(\"\\nIt's a square.\")\n",
    "else:\n",
    "    print(\"\\nIt's a rectangle.\")"
   ]
  },
  {
   "cell_type": "markdown",
   "id": "58a602fe-d8c6-4e11-851e-693b0dc720f6",
   "metadata": {},
   "source": [
    "10) Take two int values from user and print greatest among them."
   ]
  },
  {
   "cell_type": "code",
   "execution_count": 10,
   "id": "7a67a638-c514-442e-8dce-69fe2d0871d6",
   "metadata": {},
   "outputs": [
    {
     "name": "stdin",
     "output_type": "stream",
     "text": [
      "Enter first value:  11\n",
      "Enter second value:  22\n"
     ]
    },
    {
     "name": "stdout",
     "output_type": "stream",
     "text": [
      "22 is greater.\n"
     ]
    }
   ],
   "source": [
    "value1 = int(input(\"Enter first value: \"))\n",
    "value2 = int(input(\"Enter second value: \"))\n",
    "\n",
    "if value1 > value2:\n",
    "    print(str(value1),\"is greater.\")\n",
    "elif value2 > value1:\n",
    "    print(str(value2),\"is greater.\")\n",
    "else:\n",
    "    print(\"\\nBoth values are equal.\")"
   ]
  },
  {
   "cell_type": "markdown",
   "id": "be536662-8929-4e0a-a495-4436e48b2b31",
   "metadata": {},
   "source": [
    "11) A shop will give discount of 10% if the cost of purchased quantity is more than 1000. Ask user for quantity Suppose, one unit will cost 100.\r\n",
    "Judge and print total cost for use.r"
   ]
  },
  {
   "cell_type": "code",
   "execution_count": 11,
   "id": "e88677ad-f454-482b-9ef6-01983dab3e2d",
   "metadata": {},
   "outputs": [
    {
     "name": "stdin",
     "output_type": "stream",
     "text": [
      "Cost of 1 item: Rs  45\n",
      "No. of items purchased:  60\n"
     ]
    },
    {
     "name": "stdout",
     "output_type": "stream",
     "text": [
      "\n",
      "Total bill: 2700.0\n",
      "Discount: 270.0\n",
      "Payable amount: 2430.0\n"
     ]
    }
   ],
   "source": [
    "cost_per_item = float(input(\"Cost of 1 item: Rs \"))\n",
    "number_of_items = int(input(\"No. of items purchased: \"))\n",
    "total_cost = cost_per_item * number_of_items\n",
    "\n",
    "if total_cost > 1000:\n",
    "    discount = 0.1 * total_cost\n",
    "    print(\"\\nTotal bill:\", total_cost)\n",
    "    print(\"Discount:\",discount)\n",
    "    print(\"Payable amount:\", total_cost - discount)\n",
    "else:\n",
    "    print(\"\\nTotal bill:\", total_cost)"
   ]
  },
  {
   "cell_type": "markdown",
   "id": "0c26be49-6ee9-4088-8e07-36d857abc482",
   "metadata": {},
   "source": [
    "12) A school has following rules for grading system:\n",
    "a. Below 25 - F\n",
    "b. 25 to 45 - E\n",
    "c. 45 to 50 - D\n",
    "d. 50 to 60 - C\n",
    "e. 60 to 80 - B\n",
    "f. Above 80 - A\n",
    "Ask user to enter marks and print the corresponding grade."
   ]
  },
  {
   "cell_type": "code",
   "execution_count": 1,
   "id": "3f9c47b6-f0af-457a-b17a-d80511280f18",
   "metadata": {},
   "outputs": [
    {
     "name": "stdin",
     "output_type": "stream",
     "text": [
      "Enter marks:  75\n"
     ]
    },
    {
     "name": "stdout",
     "output_type": "stream",
     "text": [
      "\n",
      "Grade - B\n"
     ]
    }
   ],
   "source": [
    "marks = float(input(\"Enter marks: \"))\n",
    "\n",
    "if marks < 25:\n",
    "    print(\"\\nGrade - F\")\n",
    "elif marks >= 25 and marks < 45:\n",
    "    print(\"\\nGrade - E\")\n",
    "elif marks >= 45 and marks < 50:\n",
    "    print(\"\\nGrade - D\")\n",
    "elif marks >= 50 and marks < 60:\n",
    "    print(\"\\nGrade - C\")\n",
    "elif marks >= 60 and marks < 80:\n",
    "    print(\"\\nGrade - B\")\n",
    "elif marks >= 80 and marks <= 100:\n",
    "    print(\"\\nGrade - A\")\n",
    "else:\n",
    "    print(\"\\nIncorrect input.\")"
   ]
  },
  {
   "cell_type": "markdown",
   "id": "cc0d2e8e-10c5-4f81-a3a6-b6b322f97c12",
   "metadata": {},
   "source": [
    "14) A student will not be allowed to sit in exam if his/her attendence is less than 75%.\r\n",
    "Take following input from user\r\n",
    "Number of classes held\r\n",
    "Number of classes attended.\r\n",
    "And print\r\n",
    "percentage of class attended\r\n",
    "Is student is allowed to sit in exam or not."
   ]
  },
  {
   "cell_type": "code",
   "execution_count": 2,
   "id": "7c0d0f3c-8d30-4856-bed0-1e54a247a0ed",
   "metadata": {},
   "outputs": [
    {
     "name": "stdin",
     "output_type": "stream",
     "text": [
      "Number classes held?  28\n",
      "Number of classes attended?  20\n"
     ]
    },
    {
     "name": "stdout",
     "output_type": "stream",
     "text": [
      "\n",
      "Attendence: 71.43\n",
      "You are not allowed to sit in exam.\n"
     ]
    }
   ],
   "source": [
    "classes_held = int(input(\"Number classes held? \"))\n",
    "classes_attended = int(input(\"Number of classes attended? \"))\n",
    "\n",
    "percentage = (classes_attended / classes_held) * 100\n",
    "print(\"\\nAttendence:\", round(percentage, 2))\n",
    "\n",
    "if percentage < 75:\n",
    "    print(\"You are not allowed to sit in exam.\")\n",
    "else:\n",
    "    print(\"You are allowed to sit in exam.\")"
   ]
  },
  {
   "cell_type": "markdown",
   "id": "eb424d3a-897e-400d-97d9-0d980f3e6239",
   "metadata": {},
   "source": [
    "15) Modify the above question to allow student to sit if he/she has medical cause. Ask user if he/she has medical cause or not ( 'Y' or 'N' ) and\r\n",
    "print accordingl\r"
   ]
  },
  {
   "cell_type": "code",
   "execution_count": 7,
   "id": "c7147ae3-07d4-4199-9be8-016f77c63ab6",
   "metadata": {},
   "outputs": [
    {
     "name": "stdin",
     "output_type": "stream",
     "text": [
      "Number classes held?  28\n",
      "Number of classes attended?  20\n"
     ]
    },
    {
     "name": "stdout",
     "output_type": "stream",
     "text": [
      "\n",
      "Attendence percentage: 71.43\n"
     ]
    },
    {
     "name": "stdin",
     "output_type": "stream",
     "text": [
      "Do you have a medical cause? [Y/N]:  Y\n"
     ]
    },
    {
     "name": "stdout",
     "output_type": "stream",
     "text": [
      "You are allowed to sit in exam.\n"
     ]
    }
   ],
   "source": [
    "classes_held = int(input(\"Number classes held? \"))\n",
    "classes_attended = int(input(\"Number of classes attended? \"))\n",
    "\n",
    "percentage = (classes_attended / classes_held) * 100\n",
    "print(\"\\nAttendence percentage:\", round(percentage, 2))\n",
    "\n",
    "if percentage < 75:\n",
    "    medical_cause = input(\"Do you have a medical cause? [Y/N]: \")\n",
    "    if medical_cause == 'Y':\n",
    "        print(\"You are allowed to sit in exam.\")\n",
    "    elif medical_cause == 'N':\n",
    "        print(\"You are not allowed to sit in exam.\")\n",
    "    else:\n",
    "        print(\"Error!\")"
   ]
  },
  {
   "cell_type": "markdown",
   "id": "3f6733a2-a64a-40a6-be34-04dcf767cbd7",
   "metadata": {},
   "source": [
    "16) Write a program to check if a year is leap year or not.\r\n",
    "If a year is divisible by 4 then it is leap year but if the year is century year like 2000, 1900, 2100 then it must be divisible by 4.\r"
   ]
  },
  {
   "cell_type": "code",
   "execution_count": 2,
   "id": "42ed7ae3-fcb9-4687-ac8e-8b1632ad560f",
   "metadata": {},
   "outputs": [
    {
     "name": "stdin",
     "output_type": "stream",
     "text": [
      "Enter a year:  2024\n"
     ]
    },
    {
     "name": "stdout",
     "output_type": "stream",
     "text": [
      "it's a leap year.\n"
     ]
    }
   ],
   "source": [
    "year = int(input(\"Enter a year: \"))\n",
    "\n",
    "if year % 100 == 0:\n",
    "    #a century year, we have to check for 400\n",
    "    if year % 400 == 0:\n",
    "        print(\"it's leap year.\")\n",
    "    else:\n",
    "        print(\"It's a normal year.\")\n",
    "\n",
    "else:\n",
    "    #not a century year, we have to check for 4\n",
    "    if year % 4 == 0:\n",
    "        print(\"it's a leap year.\")\n",
    "    else:\n",
    "        print(\"it's a normal year.\")"
   ]
  },
  {
   "cell_type": "markdown",
   "id": "e38153b0-7380-49b6-ab0a-7b44c2c18573",
   "metadata": {},
   "source": [
    "17) Ask user to enter age, gender ( M or F ), marital status ( Y or N ) and then using following rules print their place of service.\r\n",
    "if employee is female, then she will work only in urban areas.\r\n",
    "if employee is a male and age is in between 20 to 40 then he may work in anywhere\r\n",
    "if employee is male and age is in between 40 t0 60 then he will work in urban areas only.\r\n",
    "And any other input of age should print \"ER.ROR\""
   ]
  },
  {
   "cell_type": "code",
   "execution_count": 3,
   "id": "b71387d6-0893-45f9-bb4a-787b368142bb",
   "metadata": {},
   "outputs": [
    {
     "name": "stdin",
     "output_type": "stream",
     "text": [
      "Enter age:  24\n",
      "Gender? [M or F]:  M\n",
      "Marital status? [Y or N]:  N\n"
     ]
    },
    {
     "name": "stdout",
     "output_type": "stream",
     "text": [
      "\n",
      "You may work anywhere.\n"
     ]
    }
   ],
   "source": [
    "age = int(input(\"Enter age: \"))\n",
    "gender = input(\"Gender? [M or F]: \")\n",
    "marital_status = input(\"Marital status? [Y or N]: \")\n",
    "\n",
    "if gender == 'F':\n",
    "    print(\"\\nYou will work in urban areas only.\")\n",
    "if gender == 'M':\n",
    "    if age >= 20 and age < 40:\n",
    "        print(\"\\nYou may work anywhere.\")\n",
    "    elif age >= 40 and age < 60:\n",
    "        print(\"\\nYou will work in urban areas only.\")\n",
    "    else:\n",
    "        print(\"ERROR!\")"
   ]
  },
  {
   "cell_type": "markdown",
   "id": "99c422fa-b467-4fd0-bfe1-b2c5e5b8ad19",
   "metadata": {},
   "source": [
    "6) Write a program to calculate the electricity bill (accept number of unit from user) according to the following criteria : Unit Price upto 100 units no charge\n",
    "Next 200 units Rs 5 per unit After 200 units Rs 10 per unit (For example if input unit is 350 than total bill amount is Rs.3500)\n",
    "(For example if input unit is 97 than total bill amount is Rs.0) (For example if input unit is 150 than total bill amount is Rs.750)"
   ]
  },
  {
   "cell_type": "code",
   "execution_count": 5,
   "id": "af23f683-d6e8-4560-acc1-7575661f5014",
   "metadata": {},
   "outputs": [
    {
     "name": "stdin",
     "output_type": "stream",
     "text": [
      "Enter no. of units:  189\n"
     ]
    },
    {
     "name": "stdout",
     "output_type": "stream",
     "text": [
      "\n",
      "Total bill amount = Rs 945\n"
     ]
    }
   ],
   "source": [
    "num_of_units = int(input(\"Enter no. of units: \"))\n",
    "\n",
    "if num_of_units <= 100:\n",
    "    unit_price = num_of_units * 0\n",
    "    print(\"\\nTotal bill amount = Rs\", unit_price)\n",
    "elif num_of_units > 100 and num_of_units <= 200:\n",
    "    unit_price = num_of_units * 5\n",
    "    print(\"\\nTotal bill amount = Rs\", unit_price)\n",
    "elif num_of_units > 200:\n",
    "    unit_price = num_of_units * 10\n",
    "    print(\"\\nTotal bill amount = Rs\", unit_price)"
   ]
  },
  {
   "cell_type": "markdown",
   "id": "81ab9a5d-08f6-4394-97fa-dd8da0052e49",
   "metadata": {},
   "source": [
    "13) Take input of age of 3 people by user and determine oldest and youngest among them."
   ]
  },
  {
   "cell_type": "code",
   "execution_count": 7,
   "id": "703132eb-e88d-4bb6-95c2-5d19dc81646f",
   "metadata": {},
   "outputs": [
    {
     "name": "stdin",
     "output_type": "stream",
     "text": [
      "Age of 1st person:  24\n",
      "Age of 2nd person:  12\n",
      "Age of 3rd person:  19\n"
     ]
    },
    {
     "name": "stdout",
     "output_type": "stream",
     "text": [
      "\n",
      "1st person is the oldest.\n",
      "2nd person is the youngest.\n"
     ]
    }
   ],
   "source": [
    "age1 = int(input(\"Age of 1st person: \"))\n",
    "age2 = int(input(\"Age of 2nd person: \"))\n",
    "age3 = int(input(\"Age of 3rd person: \"))\n",
    "\n",
    "if age1 > age2 and age1 > age3:\n",
    "    print(\"\\n1st person is the oldest.\")\n",
    "elif age2 > age1 and age2 > age3:\n",
    "    print(\"\\n2nd person is the oldest.\")\n",
    "else:\n",
    "    print(\"\\n3rd person is the oldest.\")\n",
    "\n",
    "if age1 < age2 and age1 < age3:\n",
    "    print(\"1st person is the youngest.\")\n",
    "elif age2 < age1 and age2 < age3:\n",
    "    print(\"2nd person is the youngest.\")\n",
    "else:\n",
    "    print(\"3rd person is the youngest.\")"
   ]
  }
 ],
 "metadata": {
  "kernelspec": {
   "display_name": "Python 3 (ipykernel)",
   "language": "python",
   "name": "python3"
  },
  "language_info": {
   "codemirror_mode": {
    "name": "ipython",
    "version": 3
   },
   "file_extension": ".py",
   "mimetype": "text/x-python",
   "name": "python",
   "nbconvert_exporter": "python",
   "pygments_lexer": "ipython3",
   "version": "3.11.5"
  }
 },
 "nbformat": 4,
 "nbformat_minor": 5
}
