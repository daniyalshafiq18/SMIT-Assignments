{
 "cells": [
  {
   "cell_type": "markdown",
   "id": "9a4e15fb-c77a-4768-8ec7-2edd7d9f01a5",
   "metadata": {},
   "source": [
    "## Scenario 1: Grocery Shopping List\n",
    "You are creating a program to manage a grocery shopping list. Users should be able to add items, \n",
    "remove items, and display the current list\n"
   ]
  },
  {
   "cell_type": "code",
   "execution_count": 1,
   "id": "82fd9847-96a8-47c9-b91d-4858d4113f8a",
   "metadata": {},
   "outputs": [
    {
     "name": "stdout",
     "output_type": "stream",
     "text": [
      "**** Grocery Shopping List ****\n"
     ]
    },
    {
     "name": "stdin",
     "output_type": "stream",
     "text": [
      "\n",
      "Enter number of items: 7\n",
      "1.  Cooking oil = 5l\n",
      "2.  Aata chakki = 10kg\n",
      "3.  Salt = 3kg\n",
      "4.  Sugar = 5kg\n",
      "5.  Rice = 5kg\n",
      "6.  Biryani masala = 700g\n",
      "7.  Yogurt = 500ml\n"
     ]
    },
    {
     "name": "stdout",
     "output_type": "stream",
     "text": [
      "\n",
      "Grocery List: ['Cooking oil = 5l', 'Aata chakki = 10kg', 'Salt = 3kg', 'Sugar = 5kg', 'Rice = 5kg', 'Biryani masala = 700g', 'Yogurt = 500ml']\n"
     ]
    },
    {
     "name": "stdin",
     "output_type": "stream",
     "text": [
      "\n",
      "Would you like to update this list? (Y/N):  Y\n",
      "Insert the item number you want to update ->  2\n",
      "Enter new item ->  Aata chakki = 8kg\n"
     ]
    },
    {
     "name": "stdout",
     "output_type": "stream",
     "text": [
      "\n",
      "Updated Grocery List: ['Cooking oil = 5l', 'Aata chakki = 8kg', 'Salt = 3kg', 'Sugar = 5kg', 'Rice = 5kg', 'Biryani masala = 700g', 'Yogurt = 500ml']\n"
     ]
    },
    {
     "name": "stdin",
     "output_type": "stream",
     "text": [
      "\n",
      "Would you like to remove any item? (Y/N):  Y\n",
      "Insert the item number you want to remove ->  3\n"
     ]
    },
    {
     "name": "stdout",
     "output_type": "stream",
     "text": [
      "Removed item -> Salt = 3kg\n",
      "\n",
      "Final Grocery List: ['Cooking oil = 5l', 'Aata chakki = 8kg', 'Sugar = 5kg', 'Rice = 5kg', 'Biryani masala = 700g', 'Yogurt = 500ml']\n"
     ]
    }
   ],
   "source": [
    "print(\"**** Grocery Shopping List ****\")\n",
    "\n",
    "grocery_list = []\n",
    "no_of_items = int(input(\"\\nEnter number of items:\"))\n",
    "\n",
    "for serial in range(no_of_items):\n",
    "    add_items = input(f\"{serial + 1}. \")\n",
    "    grocery_list.append(add_items)\n",
    "\n",
    "print(f\"\\nGrocery List: {grocery_list}\")\n",
    "\n",
    "update_list = input(\"\\nWould you like to update this list? (Y/N): \")\n",
    "\n",
    "if update_list.upper() == \"Y\":\n",
    "    item_number = int(input(\"Insert the item number you want to update -> \"))\n",
    "\n",
    "    if 1 <= item_number <= no_of_items:\n",
    "        update_item = input(\"Enter new item -> \")\n",
    "        grocery_list[item_number - 1] = update_item\n",
    "        print(f\"\\nUpdated Grocery List: {grocery_list}\")\n",
    "        \n",
    "    else:\n",
    "        print(\"\\nInvalid item number, no item found.\")\n",
    "        print(f\"\\nGrocery List: {grocery_list}\")\n",
    "        \n",
    "elif update_list.upper() == \"N\":\n",
    "    print(\"Let's go shopping!\")\n",
    "    \n",
    "else:\n",
    "    print(\"Invalid input\")\n",
    "\n",
    "remove_item = input(\"\\nWould you like to remove any item? (Y/N): \")\n",
    "\n",
    "if remove_item.upper() == \"Y\":\n",
    "    item_number = int(input(\"Insert the item number you want to remove -> \"))\n",
    "\n",
    "    if 1 <= item_number <= no_of_items:\n",
    "        item_removed = grocery_list.pop(item_number - 1)\n",
    "        print(f\"Removed item -> {item_removed}\")\n",
    "        print(f\"\\nFinal Grocery List: {grocery_list}\")\n",
    "\n",
    "    else:\n",
    "        print(\"\\nInvalid item number, no item found.\")\n",
    "        print(f\"\\nGrocery List: {grocery_list}\")\n",
    "        \n",
    "elif remove_item.upper() == \"N\":\n",
    "    print(\"Let's go shopping!\")\n",
    "\n",
    "else:\n",
    "    print(\"Invalid input\")"
   ]
  },
  {
   "cell_type": "markdown",
   "id": "86b07c64-b8c7-4ac1-bcec-1db5f74e5b6e",
   "metadata": {},
   "source": [
    "## Scenario 2: Student Grades\n",
    "You are managing student grades using a dictionary. You need to calculate the average grade. Take \n",
    "atleast 5 Students grades & then calculate the average."
   ]
  },
  {
   "cell_type": "code",
   "execution_count": 16,
   "id": "720a4d9d-fbf5-4426-bef0-6a8a6001aabc",
   "metadata": {},
   "outputs": [
    {
     "name": "stdin",
     "output_type": "stream",
     "text": [
      "Enter the name of student 1:  Daniyal\n",
      "Enter the name of student 2:  Farhan\n",
      "Enter the name of student 3:  Raju\n",
      "Enter the name of student 4:  Qasim\n",
      "Enter the name of student 5:  Iqbal\n"
     ]
    },
    {
     "name": "stdout",
     "output_type": "stream",
     "text": [
      "\n",
      "\n"
     ]
    },
    {
     "name": "stdin",
     "output_type": "stream",
     "text": [
      "Enter the number of subjects:  4\n",
      "Enter the name of subject 1:  Physics\n",
      "Enter the name of subject 2:  Chemistry\n",
      "Enter the name of subject 3:  MAthematics\n",
      "Enter the name of subject 4:  Biology\n"
     ]
    },
    {
     "name": "stdout",
     "output_type": "stream",
     "text": [
      "\n",
      "\n"
     ]
    },
    {
     "name": "stdin",
     "output_type": "stream",
     "text": [
      "Enter the marks for Daniyal in Physics:  65\n",
      "Enter the marks for Farhan in Physics:  65\n",
      "Enter the marks for Raju in Physics:  50\n",
      "Enter the marks for Qasim in Physics:  72\n",
      "Enter the marks for Iqbal in Physics:  69\n",
      "Enter the marks for Daniyal in Chemistry:  70\n",
      "Enter the marks for Farhan in Chemistry:  71\n",
      "Enter the marks for Raju in Chemistry:  72\n",
      "Enter the marks for Qasim in Chemistry:  73\n",
      "Enter the marks for Iqbal in Chemistry:  73\n",
      "Enter the marks for Daniyal in MAthematics:  81\n",
      "Enter the marks for Farhan in MAthematics:  78\n",
      "Enter the marks for Raju in MAthematics:  55\n",
      "Enter the marks for Qasim in MAthematics:  60\n",
      "Enter the marks for Iqbal in MAthematics:  60\n",
      "Enter the marks for Daniyal in Biology:  67\n",
      "Enter the marks for Farhan in Biology:  65\n",
      "Enter the marks for Raju in Biology:  80\n",
      "Enter the marks for Qasim in Biology:  82\n",
      "Enter the marks for Iqbal in Biology:  60\n"
     ]
    },
    {
     "name": "stdout",
     "output_type": "stream",
     "text": [
      "\n",
      "\n",
      "Percentage for Daniyal: 70.75%\n",
      "Percentage for Farhan: 69.75%\n",
      "Percentage for Raju: 64.25%\n",
      "Percentage for Qasim: 71.75%\n",
      "Percentage for Iqbal: 65.5%\n"
     ]
    }
   ],
   "source": [
    "students = {}\n",
    "\n",
    "for i in range(5):\n",
    "    name = input(\"Enter the name of student {}: \".format(i+1))\n",
    "    students[name] = {}\n",
    "print(\"\\n\")\n",
    "\n",
    "num_subjects = int(input(\"Enter the number of subjects: \"))\n",
    "\n",
    "subjects = []\n",
    "for i in range(num_subjects):\n",
    "    subject = input(\"Enter the name of subject {}: \".format(i+1))\n",
    "    subjects.append(subject)\n",
    "print(\"\\n\")\n",
    "\n",
    "for subject in subjects:\n",
    "    for student in students:\n",
    "        marks = float(input(\"Enter the marks for {} in {}: \".format(student, subject)))\n",
    "        students[student][subject] = marks\n",
    "print(\"\\n\")\n",
    "\n",
    "for student in students:\n",
    "    total_marks = sum(students[student].values())\n",
    "    average_marks = total_marks / num_subjects\n",
    "    percentage = (average_marks / 100) * 100\n",
    "    print(\"Percentage for {}: {}%\".format(student, percentage))\n"
   ]
  },
  {
   "cell_type": "markdown",
   "id": "af3b1d14-3f70-4b14-bfbb-83bf720d3258",
   "metadata": {},
   "source": [
    "## Scenario 3: Word Frequency Counter\n",
    "You are given a list of words, and you need to count the frequency of each word.\n",
    "\n",
    "word_list = [\"apple\", \"banana\", \"apple\", \"orange\", \"banana\", \"grape\", \"apple\"]\r"
   ]
  },
  {
   "cell_type": "code",
   "execution_count": 14,
   "id": "fabe2d59-b7fc-49ed-a1e0-ea6db3da2880",
   "metadata": {},
   "outputs": [
    {
     "name": "stdout",
     "output_type": "stream",
     "text": [
      "Word Frequency:\n",
      "-apple: 3\n",
      "-banana: 2\n",
      "-orange: 1\n",
      "-grape: 1\n"
     ]
    }
   ],
   "source": [
    "word_list = [\"apple\", \"banana\", \"apple\", \"orange\", \"banana\", \"grape\", \"apple\"]\n",
    "\n",
    "word_frequency = {}\n",
    "for word in word_list:\n",
    "    if word in word_frequency:\n",
    "        word_frequency[word] += 1\n",
    "    else:\n",
    "        word_frequency[word] = 1\n",
    "\n",
    "\n",
    "print(\"Word Frequency:\")\n",
    "for words, frequencies in word_frequency.items():\n",
    "    print(f\"-{words}: {frequencies}\")"
   ]
  },
  {
   "cell_type": "markdown",
   "id": "8a4e19dd-7d6e-4a4c-bfa6-fab1e2b9ac29",
   "metadata": {},
   "source": [
    "## Scenario 4: Password Strength Checker\r\n",
    "You are creating a program to check the strength of passwords based on certain criteria\n",
    "-Password should be at least 8 characters long.\r",
    "-Password should contain at least one digit.\n",
    "-Password should contain at least one letter.."
   ]
  },
  {
   "cell_type": "code",
   "execution_count": 3,
   "id": "22eda7cb-53fd-42c4-bc10-bd8673b352ae",
   "metadata": {},
   "outputs": [
    {
     "name": "stdin",
     "output_type": "stream",
     "text": [
      "Enter your password:  pakistan123\n"
     ]
    },
    {
     "name": "stdout",
     "output_type": "stream",
     "text": [
      "Your password is strong!\n"
     ]
    }
   ],
   "source": [
    "password = input(\"Enter your password: \")\n",
    "\n",
    "if len(password) >= 8:\n",
    "  has_digit = False\n",
    "  has_letter = False\n",
    "  for char in password:\n",
    "    if char.isdigit():\n",
    "      has_digit = True\n",
    "    elif char.isalpha():\n",
    "      has_letter = True\n",
    "  if has_digit and has_letter:\n",
    "    print(\"Your password is strong!\")\n",
    "  else:\n",
    "    print(\"Your password must contain at least one digit and one letter.\")\n",
    "else:\n",
    "  print(\"Your password must be at least 8 characters long.\")\n"
   ]
  },
  {
   "cell_type": "markdown",
   "id": "de8ab167-57e3-4918-b454-0c1cf3b6748f",
   "metadata": {
    "scrolled": true
   },
   "source": [
    "## Scenario 05: Voting System (Annual Employee Recognition Awards)\n",
    "You are developing a simple voting system for a contest. Users can vote for their Favorite option, and \n",
    "you need to count the votes."
   ]
  },
  {
   "cell_type": "code",
   "execution_count": 19,
   "id": "9ead72ae-3965-4814-8973-f29f2d86fe57",
   "metadata": {},
   "outputs": [
    {
     "name": "stdin",
     "output_type": "stream",
     "text": [
      "Enter the number of voters participating:  11\n"
     ]
    },
    {
     "name": "stdout",
     "output_type": "stream",
     "text": [
      "\n",
      "Voter 1:\n",
      "1. Candidate A\n",
      "2. Candidate B\n",
      "3. Candidate C\n"
     ]
    },
    {
     "name": "stdin",
     "output_type": "stream",
     "text": [
      "Enter the number corresponding to your preferred candidate:  1\n"
     ]
    },
    {
     "name": "stdout",
     "output_type": "stream",
     "text": [
      "Your vote for Candidate A has been recorded.\n",
      "\n",
      "Voter 2:\n",
      "1. Candidate A\n",
      "2. Candidate B\n",
      "3. Candidate C\n"
     ]
    },
    {
     "name": "stdin",
     "output_type": "stream",
     "text": [
      "Enter the number corresponding to your preferred candidate:  2\n"
     ]
    },
    {
     "name": "stdout",
     "output_type": "stream",
     "text": [
      "Your vote for Candidate B has been recorded.\n",
      "\n",
      "Voter 3:\n",
      "1. Candidate A\n",
      "2. Candidate B\n",
      "3. Candidate C\n"
     ]
    },
    {
     "name": "stdin",
     "output_type": "stream",
     "text": [
      "Enter the number corresponding to your preferred candidate:  1\n"
     ]
    },
    {
     "name": "stdout",
     "output_type": "stream",
     "text": [
      "Your vote for Candidate A has been recorded.\n",
      "\n",
      "Voter 4:\n",
      "1. Candidate A\n",
      "2. Candidate B\n",
      "3. Candidate C\n"
     ]
    },
    {
     "name": "stdin",
     "output_type": "stream",
     "text": [
      "Enter the number corresponding to your preferred candidate:  3\n"
     ]
    },
    {
     "name": "stdout",
     "output_type": "stream",
     "text": [
      "Your vote for Candidate C has been recorded.\n",
      "\n",
      "Voter 5:\n",
      "1. Candidate A\n",
      "2. Candidate B\n",
      "3. Candidate C\n"
     ]
    },
    {
     "name": "stdin",
     "output_type": "stream",
     "text": [
      "Enter the number corresponding to your preferred candidate:  3\n"
     ]
    },
    {
     "name": "stdout",
     "output_type": "stream",
     "text": [
      "Your vote for Candidate C has been recorded.\n",
      "\n",
      "Voter 6:\n",
      "1. Candidate A\n",
      "2. Candidate B\n",
      "3. Candidate C\n"
     ]
    },
    {
     "name": "stdin",
     "output_type": "stream",
     "text": [
      "Enter the number corresponding to your preferred candidate:  2\n"
     ]
    },
    {
     "name": "stdout",
     "output_type": "stream",
     "text": [
      "Your vote for Candidate B has been recorded.\n",
      "\n",
      "Voter 7:\n",
      "1. Candidate A\n",
      "2. Candidate B\n",
      "3. Candidate C\n"
     ]
    },
    {
     "name": "stdin",
     "output_type": "stream",
     "text": [
      "Enter the number corresponding to your preferred candidate:  3\n"
     ]
    },
    {
     "name": "stdout",
     "output_type": "stream",
     "text": [
      "Your vote for Candidate C has been recorded.\n",
      "\n",
      "Voter 8:\n",
      "1. Candidate A\n",
      "2. Candidate B\n",
      "3. Candidate C\n"
     ]
    },
    {
     "name": "stdin",
     "output_type": "stream",
     "text": [
      "Enter the number corresponding to your preferred candidate:  1\n"
     ]
    },
    {
     "name": "stdout",
     "output_type": "stream",
     "text": [
      "Your vote for Candidate A has been recorded.\n",
      "\n",
      "Voter 9:\n",
      "1. Candidate A\n",
      "2. Candidate B\n",
      "3. Candidate C\n"
     ]
    },
    {
     "name": "stdin",
     "output_type": "stream",
     "text": [
      "Enter the number corresponding to your preferred candidate:  1\n"
     ]
    },
    {
     "name": "stdout",
     "output_type": "stream",
     "text": [
      "Your vote for Candidate A has been recorded.\n",
      "\n",
      "Voter 10:\n",
      "1. Candidate A\n",
      "2. Candidate B\n",
      "3. Candidate C\n"
     ]
    },
    {
     "name": "stdin",
     "output_type": "stream",
     "text": [
      "Enter the number corresponding to your preferred candidate:  2\n"
     ]
    },
    {
     "name": "stdout",
     "output_type": "stream",
     "text": [
      "Your vote for Candidate B has been recorded.\n",
      "\n",
      "Voter 11:\n",
      "1. Candidate A\n",
      "2. Candidate B\n",
      "3. Candidate C\n"
     ]
    },
    {
     "name": "stdin",
     "output_type": "stream",
     "text": [
      "Enter the number corresponding to your preferred candidate:  1\n"
     ]
    },
    {
     "name": "stdout",
     "output_type": "stream",
     "text": [
      "Your vote for Candidate A has been recorded.\n",
      "\n",
      "Voting Results:\n",
      "Candidate A: 5 votes\n",
      "Candidate B: 3 votes\n",
      "Candidate C: 3 votes\n",
      "\n",
      "Award Winners:\n",
      "Candidate A: 5\n",
      "Candidate B: 3\n",
      "Candidate C: 3\n"
     ]
    }
   ],
   "source": [
    "candidates = ['Candidate A', 'Candidate B', 'Candidate C']\n",
    "\n",
    "# Get the number of voters participating\n",
    "num_of_voters = int(input(\"Enter the number of voters participating: \"))\n",
    "\n",
    "# Initialize a dictionary to store the votes for each candidate\n",
    "votes = {candidate: 0 for candidate in candidates}\n",
    "\n",
    "# Voting process\n",
    "for i in range(num_of_voters):\n",
    "    print(f\"\\nVoter {i+1}:\")\n",
    "    for j, candidate in enumerate(candidates):\n",
    "        print(f\"{j+1}. {candidate}\")\n",
    "    vote = int(input(\"Enter the number corresponding to your preferred candidate: \"))\n",
    "    \n",
    "    # Validate the vote\n",
    "    while vote < 1 or vote > len(candidates):\n",
    "        print(\"Invalid vote. Please choose a valid candidate.\")\n",
    "        vote = int(input(\"Enter the number corresponding to your preferred candidate: \"))\n",
    "    \n",
    "    # Record the vote\n",
    "    selected_candidate = candidates[vote-1]\n",
    "    votes[selected_candidate] += 1\n",
    "    print(f\"Your vote for {selected_candidate} has been recorded.\")\n",
    "\n",
    "# Display the voting results\n",
    "print(\"\\nVoting Results:\")\n",
    "for candidate, vote_count in votes.items():\n",
    "    print(f\"{candidate}: {vote_count} votes\")\n",
    "\n",
    "# Determine the award winners\n",
    "print(\"\\nAward Winners:\")\n",
    "for category, candidate in votes.items():\n",
    "    print(f\"{category}: {candidate}\")\n"
   ]
  }
 ],
 "metadata": {
  "kernelspec": {
   "display_name": "Python 3 (ipykernel)",
   "language": "python",
   "name": "python3"
  },
  "language_info": {
   "codemirror_mode": {
    "name": "ipython",
    "version": 3
   },
   "file_extension": ".py",
   "mimetype": "text/x-python",
   "name": "python",
   "nbconvert_exporter": "python",
   "pygments_lexer": "ipython3",
   "version": "3.11.5"
  }
 },
 "nbformat": 4,
 "nbformat_minor": 5
}
